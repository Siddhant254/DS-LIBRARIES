{
 "cells": [
  {
   "cell_type": "markdown",
   "id": "89a28939",
   "metadata": {},
   "source": [
    "# PANDAS\n",
    "\n",
    "- designed to be used with tabular data\n",
    "- built on top of numpy\n",
    "- used for data cleaning and preparation , fast analysis\n",
    "- also used for data visualization"
   ]
  },
  {
   "cell_type": "code",
   "execution_count": 1,
   "id": "3214c2af",
   "metadata": {},
   "outputs": [],
   "source": [
    "#importing pandas\n",
    "import pandas as pd\n"
   ]
  },
  {
   "cell_type": "code",
   "execution_count": 2,
   "id": "499974a6",
   "metadata": {},
   "outputs": [],
   "source": [
    "import numpy as np"
   ]
  },
  {
   "cell_type": "markdown",
   "id": "9f2bd26f",
   "metadata": {},
   "source": [
    "## SERIES\n",
    "\n",
    "- 1-D array like structure containing sequence of values"
   ]
  },
  {
   "cell_type": "code",
   "execution_count": 3,
   "id": "e659532c",
   "metadata": {},
   "outputs": [],
   "source": [
    "labels = ['a','b','c']\n",
    "my_data = [10,20,30]\n",
    "arr = np.array(my_data)\n",
    "d = {'a':10,'b':20,'c':30}"
   ]
  },
  {
   "cell_type": "code",
   "execution_count": 4,
   "id": "abae4c53",
   "metadata": {},
   "outputs": [
    {
     "data": {
      "text/plain": [
       "0    10\n",
       "1    20\n",
       "2    30\n",
       "dtype: int64"
      ]
     },
     "execution_count": 4,
     "metadata": {},
     "output_type": "execute_result"
    }
   ],
   "source": [
    "#creating series\n",
    "pd.Series(data = my_data) #will create auto-index "
   ]
  },
  {
   "cell_type": "code",
   "execution_count": 5,
   "id": "8e86585c",
   "metadata": {},
   "outputs": [
    {
     "data": {
      "text/plain": [
       "a    10\n",
       "b    20\n",
       "c    30\n",
       "dtype: int64"
      ]
     },
     "execution_count": 5,
     "metadata": {},
     "output_type": "execute_result"
    }
   ],
   "source": [
    "#creating series with custom index\n",
    "pd.Series(data=my_data , index = labels)"
   ]
  },
  {
   "cell_type": "code",
   "execution_count": 6,
   "id": "f4bb7e84",
   "metadata": {},
   "outputs": [
    {
     "data": {
      "text/plain": [
       "0    10\n",
       "1    20\n",
       "2    30\n",
       "dtype: int32"
      ]
     },
     "execution_count": 6,
     "metadata": {},
     "output_type": "execute_result"
    }
   ],
   "source": [
    "#creating series with numpy array\n",
    "pd.Series(arr)"
   ]
  },
  {
   "cell_type": "code",
   "execution_count": 8,
   "id": "9ef898db",
   "metadata": {},
   "outputs": [
    {
     "data": {
      "text/plain": [
       "a    10\n",
       "b    20\n",
       "c    30\n",
       "dtype: int64"
      ]
     },
     "execution_count": 8,
     "metadata": {},
     "output_type": "execute_result"
    }
   ],
   "source": [
    "#creating series with dictionary\n",
    "# keys will become index and values will become value\n",
    "pd.Series(d)"
   ]
  },
  {
   "cell_type": "markdown",
   "id": "b1868786",
   "metadata": {},
   "source": [
    "## Grabbing information from series"
   ]
  },
  {
   "cell_type": "code",
   "execution_count": 9,
   "id": "0b6e53e0",
   "metadata": {},
   "outputs": [],
   "source": [
    "ser1 = pd.Series([1,2,3,4],index = ['USA','Germany','USSR','Japan'])"
   ]
  },
  {
   "cell_type": "code",
   "execution_count": 10,
   "id": "a6f6db1d",
   "metadata": {},
   "outputs": [
    {
     "data": {
      "text/plain": [
       "USA        1\n",
       "Germany    2\n",
       "USSR       3\n",
       "Japan      4\n",
       "dtype: int64"
      ]
     },
     "execution_count": 10,
     "metadata": {},
     "output_type": "execute_result"
    }
   ],
   "source": [
    "ser1"
   ]
  },
  {
   "cell_type": "code",
   "execution_count": 11,
   "id": "e10bd285",
   "metadata": {},
   "outputs": [],
   "source": [
    "ser2 = pd.Series([1,2,5,4],index=['USA','Germany','Italy','Japan'])"
   ]
  },
  {
   "cell_type": "code",
   "execution_count": 12,
   "id": "9d3e7f99",
   "metadata": {},
   "outputs": [
    {
     "data": {
      "text/plain": [
       "USA        1\n",
       "Germany    2\n",
       "Italy      5\n",
       "Japan      4\n",
       "dtype: int64"
      ]
     },
     "execution_count": 12,
     "metadata": {},
     "output_type": "execute_result"
    }
   ],
   "source": [
    "ser2"
   ]
  },
  {
   "cell_type": "code",
   "execution_count": 13,
   "id": "1c712d13",
   "metadata": {},
   "outputs": [],
   "source": [
    "#syntax for grabbing info --> series_name[index_label]"
   ]
  },
  {
   "cell_type": "code",
   "execution_count": 14,
   "id": "874a646a",
   "metadata": {},
   "outputs": [
    {
     "data": {
      "text/plain": [
       "1"
      ]
     },
     "execution_count": 14,
     "metadata": {},
     "output_type": "execute_result"
    }
   ],
   "source": [
    "ser1['USA']"
   ]
  },
  {
   "cell_type": "code",
   "execution_count": 17,
   "id": "e2431c28",
   "metadata": {},
   "outputs": [],
   "source": [
    "ser3 = pd.Series(data=labels,name = 'INDEX AS VALUES')"
   ]
  },
  {
   "cell_type": "code",
   "execution_count": 18,
   "id": "939e1bd7",
   "metadata": {},
   "outputs": [
    {
     "data": {
      "text/plain": [
       "0    a\n",
       "1    b\n",
       "2    c\n",
       "Name: INDEX AS VALUES, dtype: object"
      ]
     },
     "execution_count": 18,
     "metadata": {},
     "output_type": "execute_result"
    }
   ],
   "source": [
    "ser3"
   ]
  },
  {
   "cell_type": "code",
   "execution_count": 19,
   "id": "a507d9ef",
   "metadata": {},
   "outputs": [
    {
     "name": "stdout",
     "output_type": "stream",
     "text": [
      "USA        1\n",
      "Germany    2\n",
      "USSR       3\n",
      "Japan      4\n",
      "dtype: int64\n",
      "\n",
      "USA        1\n",
      "Germany    2\n",
      "Italy      5\n",
      "Japan      4\n",
      "dtype: int64\n"
     ]
    }
   ],
   "source": [
    "print(ser1)\n",
    "print()\n",
    "print(ser2)"
   ]
  },
  {
   "cell_type": "markdown",
   "id": "95a98470",
   "metadata": {},
   "source": [
    "### adding two series\n",
    "\n",
    "- if same index is not found in both the series , then the value will become nan(null) because addition will happen on the values with same index number"
   ]
  },
  {
   "cell_type": "code",
   "execution_count": 40,
   "id": "f2e941e2",
   "metadata": {},
   "outputs": [],
   "source": [
    "ser4 = ser1+ser2"
   ]
  },
  {
   "cell_type": "markdown",
   "id": "13e5aae3",
   "metadata": {},
   "source": [
    "# SERIES METHODS"
   ]
  },
  {
   "cell_type": "markdown",
   "id": "256fb875",
   "metadata": {},
   "source": [
    "### INDEX\n",
    "\n",
    "- will give an array of index  of series"
   ]
  },
  {
   "cell_type": "code",
   "execution_count": 26,
   "id": "ee35054b",
   "metadata": {},
   "outputs": [
    {
     "data": {
      "text/plain": [
       "USA        1\n",
       "Germany    2\n",
       "Italy      5\n",
       "Japan      4\n",
       "dtype: int64"
      ]
     },
     "execution_count": 26,
     "metadata": {},
     "output_type": "execute_result"
    }
   ],
   "source": [
    "ser2 "
   ]
  },
  {
   "cell_type": "code",
   "execution_count": 27,
   "id": "37238852",
   "metadata": {},
   "outputs": [
    {
     "data": {
      "text/plain": [
       "Index(['USA', 'Germany', 'Italy', 'Japan'], dtype='object')"
      ]
     },
     "execution_count": 27,
     "metadata": {},
     "output_type": "execute_result"
    }
   ],
   "source": [
    "ser2.index"
   ]
  },
  {
   "cell_type": "markdown",
   "id": "5f0fa46a",
   "metadata": {},
   "source": [
    "### values\n",
    "\n",
    "- will give an array of values of series"
   ]
  },
  {
   "cell_type": "code",
   "execution_count": 25,
   "id": "9b3f79e4",
   "metadata": {},
   "outputs": [
    {
     "data": {
      "text/plain": [
       "array([1, 2, 5, 4], dtype=int64)"
      ]
     },
     "execution_count": 25,
     "metadata": {},
     "output_type": "execute_result"
    }
   ],
   "source": [
    "ser2.values"
   ]
  },
  {
   "cell_type": "markdown",
   "id": "68728045",
   "metadata": {},
   "source": [
    "## Grabbing information using index"
   ]
  },
  {
   "cell_type": "markdown",
   "id": "9096fb05",
   "metadata": {},
   "source": [
    "## loc\n",
    "\n",
    "- used for fetching information where custom index name is used."
   ]
  },
  {
   "cell_type": "code",
   "execution_count": 28,
   "id": "04d674a8",
   "metadata": {},
   "outputs": [
    {
     "data": {
      "text/plain": [
       "USA        1\n",
       "Germany    2\n",
       "Italy      5\n",
       "Japan      4\n",
       "dtype: int64"
      ]
     },
     "execution_count": 28,
     "metadata": {},
     "output_type": "execute_result"
    }
   ],
   "source": [
    "ser2"
   ]
  },
  {
   "cell_type": "code",
   "execution_count": 30,
   "id": "61e2d30b",
   "metadata": {},
   "outputs": [
    {
     "data": {
      "text/plain": [
       "5"
      ]
     },
     "execution_count": 30,
     "metadata": {},
     "output_type": "execute_result"
    }
   ],
   "source": [
    "ser2.loc['Italy']"
   ]
  },
  {
   "cell_type": "markdown",
   "id": "7f7a2d6e",
   "metadata": {},
   "source": [
    "## iloc\n",
    "\n",
    "- used for fetching information using index position"
   ]
  },
  {
   "cell_type": "code",
   "execution_count": 31,
   "id": "78192df2",
   "metadata": {},
   "outputs": [
    {
     "data": {
      "text/plain": [
       "USA        1\n",
       "Germany    2\n",
       "Italy      5\n",
       "Japan      4\n",
       "dtype: int64"
      ]
     },
     "execution_count": 31,
     "metadata": {},
     "output_type": "execute_result"
    }
   ],
   "source": [
    "ser2"
   ]
  },
  {
   "cell_type": "code",
   "execution_count": 32,
   "id": "0fa329d5",
   "metadata": {},
   "outputs": [
    {
     "data": {
      "text/plain": [
       "5"
      ]
     },
     "execution_count": 32,
     "metadata": {},
     "output_type": "execute_result"
    }
   ],
   "source": [
    "ser2[2]"
   ]
  },
  {
   "cell_type": "markdown",
   "id": "2e6d050b",
   "metadata": {},
   "source": [
    "## Fetching multiple values\n",
    "\n",
    "- pass a list of index names"
   ]
  },
  {
   "cell_type": "code",
   "execution_count": 33,
   "id": "af229adb",
   "metadata": {},
   "outputs": [
    {
     "data": {
      "text/plain": [
       "USA        1\n",
       "Germany    2\n",
       "Italy      5\n",
       "Japan      4\n",
       "dtype: int64"
      ]
     },
     "execution_count": 33,
     "metadata": {},
     "output_type": "execute_result"
    }
   ],
   "source": [
    "ser2\n"
   ]
  },
  {
   "cell_type": "code",
   "execution_count": 37,
   "id": "04a29d77",
   "metadata": {},
   "outputs": [
    {
     "data": {
      "text/plain": [
       "Italy    5\n",
       "Japan    4\n",
       "dtype: int64"
      ]
     },
     "execution_count": 37,
     "metadata": {},
     "output_type": "execute_result"
    }
   ],
   "source": [
    "ser2[['Italy','Japan']]"
   ]
  },
  {
   "cell_type": "code",
   "execution_count": 38,
   "id": "aa483819",
   "metadata": {},
   "outputs": [
    {
     "data": {
      "text/plain": [
       "Italy    5\n",
       "Japan    4\n",
       "dtype: int64"
      ]
     },
     "execution_count": 38,
     "metadata": {},
     "output_type": "execute_result"
    }
   ],
   "source": [
    "ser2[[2,3]]"
   ]
  },
  {
   "cell_type": "markdown",
   "id": "5edf5eff",
   "metadata": {},
   "source": [
    "## CHECK FOR NULL VALUES"
   ]
  },
  {
   "cell_type": "code",
   "execution_count": 41,
   "id": "0ef7369a",
   "metadata": {},
   "outputs": [
    {
     "data": {
      "text/plain": [
       "Germany    False\n",
       "Italy       True\n",
       "Japan      False\n",
       "USA        False\n",
       "USSR        True\n",
       "dtype: bool"
      ]
     },
     "execution_count": 41,
     "metadata": {},
     "output_type": "execute_result"
    }
   ],
   "source": [
    "#isnull is used\n",
    "ser4.isnull()"
   ]
  },
  {
   "cell_type": "code",
   "execution_count": 42,
   "id": "eb63eeed",
   "metadata": {},
   "outputs": [
    {
     "data": {
      "text/plain": [
       "Germany    False\n",
       "Italy       True\n",
       "Japan      False\n",
       "USA        False\n",
       "USSR        True\n",
       "dtype: bool"
      ]
     },
     "execution_count": 42,
     "metadata": {},
     "output_type": "execute_result"
    }
   ],
   "source": [
    "#isna can also be used\n",
    "ser4.isna()"
   ]
  },
  {
   "cell_type": "code",
   "execution_count": null,
   "id": "a1c97ef4",
   "metadata": {},
   "outputs": [],
   "source": []
  }
 ],
 "metadata": {
  "kernelspec": {
   "display_name": "Python 3 (ipykernel)",
   "language": "python",
   "name": "python3"
  },
  "language_info": {
   "codemirror_mode": {
    "name": "ipython",
    "version": 3
   },
   "file_extension": ".py",
   "mimetype": "text/x-python",
   "name": "python",
   "nbconvert_exporter": "python",
   "pygments_lexer": "ipython3",
   "version": "3.9.12"
  }
 },
 "nbformat": 4,
 "nbformat_minor": 5
}
