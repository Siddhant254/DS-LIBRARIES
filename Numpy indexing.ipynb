{
 "cells": [
  {
   "cell_type": "markdown",
   "id": "6bcfc972",
   "metadata": {},
   "source": [
    "## Fancy Indexing"
   ]
  },
  {
   "cell_type": "code",
   "execution_count": 1,
   "id": "6d135384",
   "metadata": {},
   "outputs": [
    {
     "data": {
      "text/plain": [
       "array([[85,  1, 14, 84],\n",
       "       [42, 85, 16, 43],\n",
       "       [17,  7, 67, 37],\n",
       "       [ 1, 70, 65,  9],\n",
       "       [ 3, 10,  7, 58],\n",
       "       [49, 32,  3, 11]])"
      ]
     },
     "execution_count": 1,
     "metadata": {},
     "output_type": "execute_result"
    }
   ],
   "source": [
    "import numpy as np\n",
    "\n",
    "a = np.random.randint(1,100,24).reshape(6,4)\n",
    "a"
   ]
  },
  {
   "cell_type": "code",
   "execution_count": 2,
   "id": "dc86858b",
   "metadata": {},
   "outputs": [
    {
     "data": {
      "text/plain": [
       "array([[85,  1, 14, 84],\n",
       "       [17,  7, 67, 37],\n",
       "       [ 1, 70, 65,  9]])"
      ]
     },
     "execution_count": 2,
     "metadata": {},
     "output_type": "execute_result"
    }
   ],
   "source": [
    "# Get 1st,3rd and 4th row\n",
    "a[[0,2,3]]"
   ]
  },
  {
   "cell_type": "code",
   "execution_count": 3,
   "id": "881bc0e2",
   "metadata": {},
   "outputs": [
    {
     "data": {
      "text/plain": [
       "array([[85, 14, 84],\n",
       "       [42, 16, 43],\n",
       "       [17, 67, 37],\n",
       "       [ 1, 65,  9],\n",
       "       [ 3,  7, 58],\n",
       "       [49,  3, 11]])"
      ]
     },
     "execution_count": 3,
     "metadata": {},
     "output_type": "execute_result"
    }
   ],
   "source": [
    "# Get all rows and 1st , 3rd and 4th column\n",
    "a[:,[0,2,3]]"
   ]
  },
  {
   "cell_type": "markdown",
   "id": "532e84de",
   "metadata": {},
   "source": [
    "## Boolean Indexing"
   ]
  },
  {
   "cell_type": "code",
   "execution_count": 4,
   "id": "f0886b41",
   "metadata": {},
   "outputs": [
    {
     "data": {
      "text/plain": [
       "array([[85,  1, 14, 84],\n",
       "       [42, 85, 16, 43],\n",
       "       [17,  7, 67, 37],\n",
       "       [ 1, 70, 65,  9],\n",
       "       [ 3, 10,  7, 58],\n",
       "       [49, 32,  3, 11]])"
      ]
     },
     "execution_count": 4,
     "metadata": {},
     "output_type": "execute_result"
    }
   ],
   "source": [
    "a"
   ]
  },
  {
   "cell_type": "code",
   "execution_count": 5,
   "id": "70b6fc4a",
   "metadata": {},
   "outputs": [
    {
     "data": {
      "text/plain": [
       "array([85, 84, 85, 67, 70, 65, 58])"
      ]
     },
     "execution_count": 5,
     "metadata": {},
     "output_type": "execute_result"
    }
   ],
   "source": [
    "# All numbers greater than 50\n",
    "a[a > 50]"
   ]
  },
  {
   "cell_type": "code",
   "execution_count": 8,
   "id": "b22f0831",
   "metadata": {},
   "outputs": [
    {
     "data": {
      "text/plain": [
       "array([84, 70, 58])"
      ]
     },
     "execution_count": 8,
     "metadata": {},
     "output_type": "execute_result"
    }
   ],
   "source": [
    "# All numbers greater than 50 and are even\n",
    "a[(a>50) & (a%2==0)]"
   ]
  },
  {
   "cell_type": "code",
   "execution_count": 9,
   "id": "a0c80bbd",
   "metadata": {},
   "outputs": [
    {
     "data": {
      "text/plain": [
       "array([14, 84, 42,  7, 70,  7, 49])"
      ]
     },
     "execution_count": 9,
     "metadata": {},
     "output_type": "execute_result"
    }
   ],
   "source": [
    "# All numbers divisible by 7\n",
    "a[a%7==0]"
   ]
  },
  {
   "cell_type": "markdown",
   "id": "9430126e",
   "metadata": {},
   "source": [
    "### Broadcasting"
   ]
  },
  {
   "cell_type": "code",
   "execution_count": 10,
   "id": "0c242673",
   "metadata": {},
   "outputs": [],
   "source": [
    "# same shape\n"
   ]
  },
  {
   "cell_type": "code",
   "execution_count": null,
   "id": "d062d4d6",
   "metadata": {},
   "outputs": [],
   "source": [
    "# sigmoid\n"
   ]
  }
 ],
 "metadata": {
  "kernelspec": {
   "display_name": "Python 3 (ipykernel)",
   "language": "python",
   "name": "python3"
  },
  "language_info": {
   "codemirror_mode": {
    "name": "ipython",
    "version": 3
   },
   "file_extension": ".py",
   "mimetype": "text/x-python",
   "name": "python",
   "nbconvert_exporter": "python",
   "pygments_lexer": "ipython3",
   "version": "3.9.12"
  }
 },
 "nbformat": 4,
 "nbformat_minor": 5
}
